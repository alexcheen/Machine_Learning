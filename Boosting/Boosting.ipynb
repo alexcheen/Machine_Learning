{
 "cells": [
  {
   "cell_type": "markdown",
   "metadata": {},
   "source": [
    "# 提升 Boosting"
   ]
  },
  {
   "cell_type": "markdown",
   "metadata": {},
   "source": [
    "假定最优函数为 $F^{*}(\\vec{x})$\n",
    "$$F^{*}(\\vec{x}) = \\underset{F}{\\text{arg min}}E_{(x,y)}[L(y,F(\\vec{x}))]$$\n",
    "而其中$F(\\vec{x})$时一族基函数$f_{i}(x)$的加权和\n",
    "$$F(\\vec{x})=\\sum_{i=1}^{M}\\gamma_{i}f_{i}(x)+{\\text{const}}$$"
   ]
  },
  {
   "cell_type": "code",
   "execution_count": null,
   "metadata": {},
   "outputs": [],
   "source": []
  }
 ],
 "metadata": {
  "kernelspec": {
   "display_name": "Python 3",
   "language": "python",
   "name": "python3"
  },
  "language_info": {
   "codemirror_mode": {
    "name": "ipython",
    "version": 3
   },
   "file_extension": ".py",
   "mimetype": "text/x-python",
   "name": "python",
   "nbconvert_exporter": "python",
   "pygments_lexer": "ipython3",
   "version": "3.5.4"
  }
 },
 "nbformat": 4,
 "nbformat_minor": 2
}
