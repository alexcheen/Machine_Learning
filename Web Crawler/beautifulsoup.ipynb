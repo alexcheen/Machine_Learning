{
 "cells": [
  {
   "cell_type": "markdown",
   "metadata": {},
   "source": [
    "## ex 00"
   ]
  },
  {
   "cell_type": "code",
   "execution_count": 30,
   "metadata": {},
   "outputs": [],
   "source": [
    "import urllib\n",
    "from bs4 import BeautifulSoup\n",
    "import re\n",
    "import random"
   ]
  },
  {
   "cell_type": "code",
   "execution_count": 46,
   "metadata": {},
   "outputs": [],
   "source": [
    "base_url = \"http://www.heibanke.com/lesson/crawler_ex00/\"\n",
    "charset = 'utf-8'"
   ]
  },
  {
   "cell_type": "code",
   "execution_count": 32,
   "metadata": {},
   "outputs": [],
   "source": [
    "html = urllib.request.urlopen(base_url).read().decode('utf-8')"
   ]
  },
  {
   "cell_type": "code",
   "execution_count": 33,
   "metadata": {},
   "outputs": [],
   "source": [
    "soup = BeautifulSoup(html, features='lxml')\n",
    "sub_url = re.findall('([0-9]+)', soup.find('h3').get_text())\n"
   ]
  },
  {
   "cell_type": "code",
   "execution_count": 34,
   "metadata": {},
   "outputs": [
    {
     "data": {
      "text/plain": [
       "'http://www.heibanke.com/lesson/crawler_ex00/77456'"
      ]
     },
     "execution_count": 34,
     "metadata": {},
     "output_type": "execute_result"
    }
   ],
   "source": [
    "url_next = \"%s%s\"%(base_url,sub_url[-1])\n",
    "url_next"
   ]
  },
  {
   "cell_type": "code",
   "execution_count": 35,
   "metadata": {
    "scrolled": true
   },
   "outputs": [
    {
     "name": "stdout",
     "output_type": "stream",
     "text": [
      "getting URL: http://www.heibanke.com/lesson/crawler_ex00/77456\n",
      "next sub-url: 62881\n",
      "getting URL: http://www.heibanke.com/lesson/crawler_ex00/62881\n",
      "next sub-url: 73618\n",
      "getting URL: http://www.heibanke.com/lesson/crawler_ex00/73618\n",
      "next sub-url: 53825\n",
      "getting URL: http://www.heibanke.com/lesson/crawler_ex00/53825\n",
      "next sub-url: 36752\n",
      "getting URL: http://www.heibanke.com/lesson/crawler_ex00/36752\n",
      "next sub-url: 64972\n",
      "getting URL: http://www.heibanke.com/lesson/crawler_ex00/64972\n",
      "next sub-url: 33818\n",
      "getting URL: http://www.heibanke.com/lesson/crawler_ex00/33818\n",
      "next sub-url: 30867\n",
      "getting URL: http://www.heibanke.com/lesson/crawler_ex00/30867\n",
      "next sub-url: 44513\n",
      "getting URL: http://www.heibanke.com/lesson/crawler_ex00/44513\n",
      "next sub-url: 53577\n",
      "getting URL: http://www.heibanke.com/lesson/crawler_ex00/53577\n",
      "next sub-url: 48950\n",
      "getting URL: http://www.heibanke.com/lesson/crawler_ex00/48950\n",
      "next sub-url: 69524\n",
      "getting URL: http://www.heibanke.com/lesson/crawler_ex00/69524\n",
      "next sub-url: 43295\n",
      "getting URL: http://www.heibanke.com/lesson/crawler_ex00/43295\n",
      "next sub-url: 48946\n",
      "getting URL: http://www.heibanke.com/lesson/crawler_ex00/48946\n",
      "next sub-url: 13647\n",
      "getting URL: http://www.heibanke.com/lesson/crawler_ex00/13647\n",
      "next sub-url: 99039\n",
      "getting URL: http://www.heibanke.com/lesson/crawler_ex00/99039\n",
      "next sub-url: 48743\n",
      "getting URL: http://www.heibanke.com/lesson/crawler_ex00/48743\n",
      "next sub-url: 26048\n",
      "getting URL: http://www.heibanke.com/lesson/crawler_ex00/26048\n",
      "next sub-url: 43713\n",
      "getting URL: http://www.heibanke.com/lesson/crawler_ex00/43713\n",
      "next sub-url: 48776\n",
      "getting URL: http://www.heibanke.com/lesson/crawler_ex00/48776\n",
      "next sub-url: 61813\n",
      "getting URL: http://www.heibanke.com/lesson/crawler_ex00/61813\n",
      "next sub-url: 69634\n",
      "getting URL: http://www.heibanke.com/lesson/crawler_ex00/69634\n",
      "next sub-url: 49163\n",
      "getting URL: http://www.heibanke.com/lesson/crawler_ex00/49163\n",
      "next sub-url: 26470\n",
      "getting URL: http://www.heibanke.com/lesson/crawler_ex00/26470\n",
      "next sub-url: 64899\n",
      "getting URL: http://www.heibanke.com/lesson/crawler_ex00/64899\n",
      "next sub-url: 36702\n",
      "getting URL: http://www.heibanke.com/lesson/crawler_ex00/36702\n",
      "next sub-url: 83105\n",
      "getting URL: http://www.heibanke.com/lesson/crawler_ex00/83105\n",
      "next sub-url: 25338\n",
      "getting URL: http://www.heibanke.com/lesson/crawler_ex00/25338\n",
      "next sub-url: 19016\n",
      "getting URL: http://www.heibanke.com/lesson/crawler_ex00/19016\n",
      "next sub-url: 13579\n",
      "getting URL: http://www.heibanke.com/lesson/crawler_ex00/13579\n",
      "next sub-url: 43396\n",
      "getting URL: http://www.heibanke.com/lesson/crawler_ex00/43396\n",
      "next sub-url: 39642\n",
      "getting URL: http://www.heibanke.com/lesson/crawler_ex00/39642\n",
      "next sub-url: 96911\n",
      "getting URL: http://www.heibanke.com/lesson/crawler_ex00/96911\n",
      "next sub-url: 30965\n",
      "getting URL: http://www.heibanke.com/lesson/crawler_ex00/30965\n",
      "next sub-url: 67917\n",
      "getting URL: http://www.heibanke.com/lesson/crawler_ex00/67917\n",
      "next sub-url: 22213\n",
      "getting URL: http://www.heibanke.com/lesson/crawler_ex00/22213\n",
      "next sub-url: 72586\n",
      "getting URL: http://www.heibanke.com/lesson/crawler_ex00/72586\n",
      "next sub-url: 48151\n",
      "getting URL: http://www.heibanke.com/lesson/crawler_ex00/48151\n",
      "next sub-url: 53639\n",
      "getting URL: http://www.heibanke.com/lesson/crawler_ex00/53639\n",
      "next sub-url: 10963\n",
      "getting URL: http://www.heibanke.com/lesson/crawler_ex00/10963\n",
      "next sub-url: 65392\n",
      "getting URL: http://www.heibanke.com/lesson/crawler_ex00/65392\n",
      "next sub-url: 36133\n",
      "getting URL: http://www.heibanke.com/lesson/crawler_ex00/36133\n",
      "next sub-url: 72324\n",
      "getting URL: http://www.heibanke.com/lesson/crawler_ex00/72324\n",
      "next sub-url: 57633\n",
      "getting URL: http://www.heibanke.com/lesson/crawler_ex00/57633\n",
      "next sub-url: 91251\n",
      "getting URL: http://www.heibanke.com/lesson/crawler_ex00/91251\n",
      "next sub-url: 87016\n",
      "getting URL: http://www.heibanke.com/lesson/crawler_ex00/87016\n",
      "next sub-url: 77055\n",
      "getting URL: http://www.heibanke.com/lesson/crawler_ex00/77055\n",
      "next sub-url: 30366\n",
      "getting URL: http://www.heibanke.com/lesson/crawler_ex00/30366\n",
      "next sub-url: 83679\n",
      "getting URL: http://www.heibanke.com/lesson/crawler_ex00/83679\n",
      "next sub-url: 31388\n",
      "getting URL: http://www.heibanke.com/lesson/crawler_ex00/31388\n"
     ]
    }
   ],
   "source": [
    "while(sub_url[-1]):\n",
    "    url_next = \"%s%s\"%(base_url,sub_url[-1])\n",
    "    print(\"getting URL:\",url_next)\n",
    "    html = urllib.request.urlopen(url_next).read().decode('utf-8')\n",
    "    soup = BeautifulSoup(html, features='lxml')\n",
    "    temp = re.findall('([0-9]+)', soup.find('h3').get_text())\n",
    "    if temp:\n",
    "        print(\"next sub-url:\",temp[0])\n",
    "        sub_url.append(temp[0])\n",
    "    else:\n",
    "        print(\"get the final URL or other exception to end!\")\n",
    "        break"
   ]
  },
  {
   "cell_type": "code",
   "execution_count": 42,
   "metadata": {},
   "outputs": [
    {
     "name": "stdout",
     "output_type": "stream",
     "text": [
      "['77456', '62881', '73618', '53825', '36752', '64972', '33818', '30867', '44513', '53577', '48950', '69524', '43295', '48946', '13647', '99039', '48743', '26048', '43713', '48776', '61813', '69634', '49163', '26470', '64899', '36702', '83105', '25338', '19016', '13579', '43396', '39642', '96911', '30965', '67917', '22213', '72586', '48151', '53639', '10963', '65392', '36133', '72324', '57633', '91251', '87016', '77055', '30366', '83679', '31388']\n",
      "50\n"
     ]
    },
    {
     "data": {
      "text/plain": [
       "'http://www.heibanke.com/lesson/crawler_ex00/31388'"
      ]
     },
     "execution_count": 42,
     "metadata": {},
     "output_type": "execute_result"
    }
   ],
   "source": [
    "print(sub_url)\n",
    "print(len(sub_url))\n",
    "final_url =  \"%s%s\"%(base_url,sub_url[-1])\n",
    "final_url"
   ]
  },
  {
   "cell_type": "markdown",
   "metadata": {},
   "source": [
    "<p>得到网页：http://www.heibanke.com/lesson/crawler_ex01/</p>\n",
    "<p>网页个数为50个，没有上百个，可见之前说上百个是吓人的。</p>"
   ]
  },
  {
   "cell_type": "markdown",
   "metadata": {},
   "source": [
    "**todo - csrf验证**\n",
    "\n",
    "表单的提交："
   ]
  },
  {
   "cell_type": "code",
   "execution_count": 64,
   "metadata": {},
   "outputs": [
    {
     "name": "stdout",
     "output_type": "stream",
     "text": [
      "{'username': 'admin', 'password': 0}\n",
      "['错误'] 0\n",
      "{'username': 'admin', 'password': 1}\n",
      "['错误'] 1\n",
      "{'username': 'admin', 'password': 2}\n",
      "['错误'] 2\n",
      "{'username': 'admin', 'password': 3}\n",
      "['错误'] 3\n",
      "{'username': 'admin', 'password': 4}\n",
      "['错误'] 4\n",
      "{'username': 'admin', 'password': 5}\n",
      "['错误'] 5\n",
      "{'username': 'admin', 'password': 6}\n",
      "['错误'] 6\n",
      "{'username': 'admin', 'password': 7}\n",
      "['错误'] 7\n",
      "{'username': 'admin', 'password': 8}\n",
      "['错误'] 8\n",
      "{'username': 'admin', 'password': 9}\n",
      "['错误'] 9\n",
      "{'username': 'admin', 'password': 10}\n",
      "['错误'] 10\n",
      "{'username': 'admin', 'password': 11}\n",
      "['错误'] 11\n",
      "{'username': 'admin', 'password': 12}\n",
      "['错误'] 12\n",
      "{'username': 'admin', 'password': 13}\n",
      "['错误'] 13\n",
      "{'username': 'admin', 'password': 14}\n",
      "['错误'] 14\n",
      "{'username': 'admin', 'password': 15}\n",
      "['错误'] 15\n",
      "{'username': 'admin', 'password': 16}\n",
      "['错误'] 16\n",
      "{'username': 'admin', 'password': 17}\n",
      "['错误'] 17\n",
      "{'username': 'admin', 'password': 18}\n",
      "[] 18\n",
      "password: 18\n"
     ]
    }
   ],
   "source": [
    "i = 0\n",
    "url =\"/\"\n",
    "\n",
    "while i<31:\n",
    "    value = {\"username\":\"admin\", \"password\": i}\n",
    "    print(value)\n",
    "    data = urllib.parse.urlencode(value).encode('utf-8')\n",
    "\n",
    "    request = urllib.request.Request(url,data)\n",
    "    # response = urllib.request.urlopen(request)\n",
    "    html2 = urllib.request.urlopen(request).read().decode('utf-8')\n",
    "    soup2 = BeautifulSoup(html2, features='lxml')\n",
    "    context =  soup2.find('h3').get_text()\n",
    "    compare = re.findall('错误', context)\n",
    "    print(compare,i)\n",
    "    if compare:\n",
    "        i+=1\n",
    "    else:\n",
    "        print('password:',i)\n",
    "        break \n"
   ]
  },
  {
   "cell_type": "code",
   "execution_count": 67,
   "metadata": {},
   "outputs": [],
   "source": [
    "import urllib.request as ur\n",
    "import urllib.parse as up\n",
    "import http.cookiejar as hc\n",
    "import re"
   ]
  },
  {
   "cell_type": "code",
   "execution_count": null,
   "metadata": {},
   "outputs": [],
   "source": []
  }
 ],
 "metadata": {
  "kernelspec": {
   "display_name": "Python 3",
   "language": "python",
   "name": "python3"
  },
  "language_info": {
   "codemirror_mode": {
    "name": "ipython",
    "version": 3
   },
   "file_extension": ".py",
   "mimetype": "text/x-python",
   "name": "python",
   "nbconvert_exporter": "python",
   "pygments_lexer": "ipython3",
   "version": "3.5.4"
  }
 },
 "nbformat": 4,
 "nbformat_minor": 2
}
