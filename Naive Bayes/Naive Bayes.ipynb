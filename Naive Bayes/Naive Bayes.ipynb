{
 "cells": [
  {
   "cell_type": "markdown",
   "metadata": {},
   "source": [
    "# Naive Bayes  朴素贝叶斯"
   ]
  },
  {
   "cell_type": "markdown",
   "metadata": {},
   "source": [
    "## 1.信息论 Information Theory"
   ]
  },
  {
   "cell_type": "markdown",
   "metadata": {},
   "source": [
    "随机变量X的概率分布为$p(x)$,那么X携带的信息量为：\n",
    "$$H(X)=\\sum_{x}-p(x)log(p(x))$$"
   ]
  },
  {
   "cell_type": "markdown",
   "metadata": {},
   "source": [
    "在统计机器学习方面，一个模型训练数据上获得了一个X的预测分布$q(x)=\\hat{y}(x)$,以交叉熵(Cross Entropy)作为其性能度量,即：\n",
    "$$H_{q(x)}(p(x))=-\\sum_{x}p(x)log(q(x))$$\n",
    "其中交叉熵不具有对称性，$H_{q(x)}(p(x))\\neq H_{p(x)}(q(x))$"
   ]
  },
  {
   "cell_type": "markdown",
   "metadata": {},
   "source": [
    "简化记号，$H_{q(x)}(p(x)) -> H_{q}(p)$ ,$H(X) -> H(p)$"
   ]
  },
  {
   "cell_type": "markdown",
   "metadata": {},
   "source": [
    "把$H_{q}(p)$和$H(p)$做比较，\n",
    "$$H_{q}(p)-H(p) = -\\sum_{x}p(x)log(\\frac{p(x)}{q(x)})$$"
   ]
  },
  {
   "cell_type": "code",
   "execution_count": null,
   "metadata": {},
   "outputs": [],
   "source": []
  },
  {
   "cell_type": "code",
   "execution_count": null,
   "metadata": {},
   "outputs": [],
   "source": []
  }
 ],
 "metadata": {
  "kernelspec": {
   "display_name": "Python 3",
   "language": "python",
   "name": "python3"
  },
  "language_info": {
   "codemirror_mode": {
    "name": "ipython",
    "version": 3
   },
   "file_extension": ".py",
   "mimetype": "text/x-python",
   "name": "python",
   "nbconvert_exporter": "python",
   "pygments_lexer": "ipython3",
   "version": "3.5.4"
  }
 },
 "nbformat": 4,
 "nbformat_minor": 2
}
