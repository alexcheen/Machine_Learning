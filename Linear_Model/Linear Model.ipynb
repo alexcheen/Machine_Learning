{
 "cells": [
  {
   "cell_type": "markdown",
   "metadata": {},
   "source": [
    "# 线性模型 Linear Model"
   ]
  },
  {
   "cell_type": "markdown",
   "metadata": {},
   "source": [
    "<!-- TODO Linear model -->\n",
    "\n",
    "1。线性模型, 是统计学习和机器学习的基础。\n",
    "\n",
    "线性模型的形式很简单，$Y=X\\cdot W^{T} + b$。 \n",
    "对于**分类任务**，就是选择合适的$W$和$b$,使得数据集中的数据分别位于分界（超）平面的两侧；\n",
    "对于**回归任务**，找到合适的$W$和$b$,使得数据集中的数据尽量位于回归面的附近。"
   ]
  },
  {
   "cell_type": "markdown",
   "metadata": {},
   "source": [
    "### 最小二乘法（ordinary least square）"
   ]
  },
  {
   "cell_type": "markdown",
   "metadata": {},
   "source": [
    "为了计算方便，把$b$吸收到W中，作为$x^{0}$的系数，相应的在X中添加对应的列。m为特征个数，n为样本数量。\n",
    "$$y^{(i)}=\\sum_{j=0}^{m}X_{ij}w_{j}, i=(1,2,...,n)$$\n",
    "向量化可有等式：\n",
    "$$\\vec{y}=X\\cdot\\vec{w}$$\n",
    "其中\n",
    "$X=\\begin{bmatrix}\n",
    "X_{11} & X_{12} &\\cdots&X_{1m} \\\\ \n",
    "X_{21} & X_{22} &\\cdots&X_{2m} \\\\ \n",
    " \\vdots&\\vdots  & \\ddots&\\vdots\\\\\n",
    "X_{n1} & X_{n2} &\\cdots&X_{nm}\n",
    "\\end{bmatrix}$,\n",
    "$\\vec{w}=\\begin{pmatrix}\n",
    "w_1\\\\\n",
    "w_2\\\\\n",
    "\\vdots\\\\\n",
    "w_n\n",
    "\\end{pmatrix}$,\n",
    "$\\vec{y}=\\begin{pmatrix}\n",
    "y_1\\\\\n",
    "y_2\\\\\n",
    "\\vdots\\\\\n",
    "y_n\\\\\n",
    "\\end{pmatrix}$"
   ]
  },
  {
   "cell_type": "markdown",
   "metadata": {},
   "source": [
    ">注：$\\frac{\\partial{\\vec{y}}}{\\partial{\\vec{x}}}=\\frac{\\partial{X\\vec{x}}}{\\partial{\\vec{x}}}=\\begin{bmatrix}\n",
    "X_{11} & X_{21} &\\cdots&X_{n1} \\\\ \n",
    "X_{12} & X_{22} &\\cdots&X_{n2} \\\\ \n",
    " \\vdots&\\vdots  & \\ddots&\\vdots\\\\\n",
    "X_{1m} & X_{2m} &\\cdots&X_{nm}\n",
    "\\end{bmatrix}\n",
    "=X^{T}$ "
   ]
  },
  {
   "cell_type": "markdown",
   "metadata": {},
   "source": [
    "$$\\frac{\\partial{A\\vec{x}}}{\\partial{\\vec{x}}}=A^{T}$$   \n",
    "$$\\frac{\\partial{A\\vec{x}}}{\\partial{\\vec{x}^{T}}}=A$$   \n",
    "$$\\frac{\\partial({\\vec{x}A})}{\\partial{\\vec{x}}}=A$$"
   ]
  },
  {
   "cell_type": "markdown",
   "metadata": {},
   "source": [
    "### 线性回归 Linear Regression"
   ]
  },
  {
   "cell_type": "markdown",
   "metadata": {},
   "source": [
    "首先构造数据集（x,y），$$y = a*x + b+ \\epsilon$$\n",
    "其中$\\epsilon$ (np.random.randn((m,n)))为随机扰动项，来模拟现实数据中的各种加行扰动。"
   ]
  },
  {
   "cell_type": "code",
   "execution_count": 1,
   "metadata": {},
   "outputs": [],
   "source": [
    "import numpy as np\n",
    "np.random.seed(24) # for reproduction\n",
    "a = 5\n",
    "b = 1 \n",
    "x = np.linspace(0,2,100)\n",
    "epsilon = np.random.randn(len(x))\n",
    "y = a*x + b + epsilon"
   ]
  },
  {
   "cell_type": "markdown",
   "metadata": {},
   "source": [
    "#### 理论计算(极大似然估计）：\n",
    "从贝叶斯角度讲，加入模型参数的先验分布。\n",
    "首先是考虑一维情况：\n",
    "假设$\\epsilon^{i}$为I.I.D.的Guassian分布，均值为0， 方差为$\\delta^{2}$。即：$$p(\\epsilon^{i})=\\frac{1}{\\sqrt{2\\pi}\\delta}exp(-\\frac{(\\epsilon^{(i)})^{2}}{2\\delta^{2}})$$\n",
    "对于第i个数据$ y^{(i)}= W^{T}\\cdot{x^{(i)}}+ \\epsilon^{(i)}$的条件概率$p(y^{(i)}|x^{(i)};\\theta)$为\n",
    "$$p(y^{(i)}|x^{(i)};\\theta) = \\frac{1}{\\sqrt{2\\pi}\\delta}exp(-\\frac{(y^{(i)}-W^{T}\\cdot x^{(i)})^{2}}{2\\delta^{2}})$$\n",
    "应用拉格朗日乘子来计算$W$的似然估计:\n",
    "$$L(w) =\\prod_{i=1}^{m} p(y^{(i)}|x^{(i)};\\theta) = \\prod_{i=1}^{m} \\frac{1}{\\sqrt{2\\pi}\\delta}exp(-\\frac{(y^{(i)}-W^{T}\\cdot x^{(i)})^{2}}{2\\delta^{2}})$$\n",
    "取其对数$l(w) = ln(L(w))$， 则有$$l(w) = -m log(\\sqrt{2\\pi}\\delta) - \\frac{1}{2\\delta^{2}}\\sum_{i=1}^{m}(y^{(i)}-W^{T}x^{(i)})^{2}$$\n",
    "去除常数项和系数，可令：\n",
    "$$J(w) = \\sum_{i=1}^{m}(y^{(i)}-W^{T}x^{(i)})^{2}$$"
   ]
  },
  {
   "cell_type": "markdown",
   "metadata": {},
   "source": [
    "根据极大似然估计，最优解$w^{*}=\\underset{w}{\\text{arg min}}J(w)$\n",
    "\n",
    "$J(w)$是简单的凸函数，其最优解必为梯度为0的点，由\n",
    "$\\triangledown_{w}J(w)=X^{T}XW-X^{T}Y=0$可得\n",
    "$$W = (X^{T}X)^{-1}X^{T}Y$$"
   ]
  },
  {
   "cell_type": "markdown",
   "metadata": {},
   "source": [
    ">注：矩阵取逆的复杂度为$O(n^{2.4})$~$O(n^{3})$之间"
   ]
  },
  {
   "cell_type": "code",
   "execution_count": 2,
   "metadata": {},
   "outputs": [],
   "source": [
    "X_b = np.c_[np.ones((len(x),1)),x] # np.c_[] not np.c_(）"
   ]
  },
  {
   "cell_type": "code",
   "execution_count": 3,
   "metadata": {},
   "outputs": [
    {
     "name": "stdout",
     "output_type": "stream",
     "text": [
      "[ 1.17970383  4.92454819]\n"
     ]
    }
   ],
   "source": [
    "w_star = np.linalg.inv(X_b.T.dot(X_b)).dot(X_b.T).dot(y)\n",
    "print(w_star)"
   ]
  },
  {
   "cell_type": "markdown",
   "metadata": {},
   "source": [
    "计算结果，最佳估计参数 $b=1.18, a = 4.92$\n",
    "\n",
    "对比numpy中的多项式拟合np.ployfit()，两者结果相同（p中高次项在前）。"
   ]
  },
  {
   "cell_type": "code",
   "execution_count": 4,
   "metadata": {},
   "outputs": [
    {
     "data": {
      "text/plain": [
       "array([ 1.17970383,  4.92454819])"
      ]
     },
     "execution_count": 4,
     "metadata": {},
     "output_type": "execute_result"
    }
   ],
   "source": [
    "p,_=np.polyfit(x,y,1,cov=True) \n",
    "p[::-1]"
   ]
  },
  {
   "cell_type": "markdown",
   "metadata": {},
   "source": [
    "点到直线距离：\n",
    "$$ d= \\frac{|Ax+By+C|}{\\sqrt{A^{2}+B^{2}}}$$"
   ]
  },
  {
   "cell_type": "code",
   "execution_count": 5,
   "metadata": {},
   "outputs": [],
   "source": [
    "d = w_star[1]*x - y + w_star[0]  # regardless of real distance, just for max value postion\n",
    "postion = [np.where(d==d.min())[0],np.where(d==d.max())[0]]\n",
    "line_max = [w_star[1]*x+y[i]-w_star[1]*x[i] for i in postion]\n",
    "# y_lp = w_star[1]*x+y_p-w_star[1]*x_p\n",
    "# y_ln = w_star[1]*x+y_n-w_star[1]*x_n"
   ]
  },
  {
   "cell_type": "code",
   "execution_count": 8,
   "metadata": {
    "scrolled": true
   },
   "outputs": [
    {
     "data": {
      "image/png": "[encoded data removed]",
      "text/plain": [
       "<matplotlib.figure.Figure at 0x1f351bd9fd0>"
      ]
     },
     "metadata": {},
     "output_type": "display_data"
    }
   ],
   "source": [
    "%matplotlib inline\n",
    "from matplotlib.pylab import subplots\n",
    "\n",
    "# predict\n",
    "y_ = w_star[1]*x + w_star[0]\n",
    "\n",
    "fig,axs=subplots(1,2)\n",
    "fig.set_size_inches((9,4))\n",
    "_=ax =axs[0]\n",
    "_=ax.plot(x,y,'o',alpha=.3,color='gray',ms=10)\n",
    "_=ax.plot(x,y_,color='k',lw=3)\n",
    "# _=ax.plot(x,y_lp, '--',color='k', lw=1)\n",
    "# _=ax.plot(x,y_ln, '--',color='k', lw=1)\n",
    "_=ax.plot(x,line_max[0], '--',color='k', lw=1)\n",
    "_=ax.plot(x,line_max[1], '--',color='k', lw=1)\n",
    "_=ax.set_xlabel(\"$x$\",fontsize=22)\n",
    "_=ax.set_ylabel(\"$y$\",fontsize=22)\n",
    "_=ax.set_title(\"Linear regression; a=%3.3g b=%3.3g\"%(p[0],p[1]))\n",
    "_=ax = axs[1]\n",
    "_=ax.hist(y_-y,color='gray')\n",
    "_=ax.set_xlabel(r\"$\\Delta y$\",fontsize=22)\n",
    "fig.tight_layout()"
   ]
  },
  {
   "cell_type": "markdown",
   "metadata": {},
   "source": [
    "### 多项式回归"
   ]
  },
  {
   "cell_type": "markdown",
   "metadata": {},
   "source": [
    "多项式回归是线性回归的更复杂，更泛化的模型。理论上讲，可以构建一个任意多阶的函数来完全拟合任意多的数据。\n",
    "如：指数函数 $e^{x} = \\sum^{\\infty}_{n=0}\\frac{x^{n}}{n!}$, Fourier transform。"
   ]
  },
  {
   "cell_type": "markdown",
   "metadata": {},
   "source": [
    "<!-- TODO in Regularization -->\n",
    "- [ ] 维度灾难 -> 奥卡姆剃刀 -> 正则化\n",
    "\n",
    "L0:  NP Hard $\\sum_{i=1}^{m}(\\theta x^{(i)}-y^{(i)})^{2} +\\sum_{i=1}^{m}count(\\theta_{i}\\neq 0)$\n",
    "\n",
    "L1: Lasso : Tibshirani, 1996 \n",
    "\n",
    "$J(\\overrightarrow{\\theta})_{L1} = \\frac{1}{2}\\sum_{i=1}^{m}(h_{\\overrightarrow{\\theta}}(x^{(i)}-y^{(i)})^{2}+\\lambda\\sum_{j=1}^{n}|\\theta_{j}|$\n",
    "\n",
    "L2: Ridge Hoerl, Kennard, 1970 \n",
    "\n",
    "$J(\\overrightarrow{\\theta})_{L2} = \\frac{1}{2}\\sum_{i=1}^{m}(h_{\\overrightarrow{\\theta}}(x^{(i)}-y^{(i)})^{2}+\\lambda\\sum_{j=1}^{n}\\theta_{j}^{2}$\n",
    "\n",
    "Elastic Net\n",
    "\n",
    "$J(\\overrightarrow{\\theta})_{L2} = \\frac{1}{2}\\sum_{i=1}^{m}(h_{\\overrightarrow{\\theta}}(x^{(i)}-y^{(i)})^{2}+\\lambda(\\rho\\cdot\\sum_{j=1}^{n}|\\theta_{j}|+(1-\\rho)\\cdot\\sum_{j=1}^{n}\\theta_{j}^{2})$\n",
    "\n",
    "note: $\\lambda>0$, $\\rho\\in[0,1]$"
   ]
  },
  {
   "cell_type": "markdown",
   "metadata": {},
   "source": [
    "生成模拟数据集（x,y)"
   ]
  },
  {
   "cell_type": "code",
   "execution_count": 25,
   "metadata": {},
   "outputs": [],
   "source": [
    "m = 100 # numbers of data\n",
    "epsilon = np.random.randn(2*m)\n",
    "x = np.linspace(-3, 3, m) + epsilon[:m]\n",
    "x = np.sort(x)\n",
    "y = x**2 - 2*x - 5 + epsilon[m:] # not epsilong[m+1:,:]\n",
    "x.shape = -1, 1\n",
    "y.shape = -1, 1\n",
    "# print(x.shape, y.shape)"
   ]
  },
  {
   "cell_type": "code",
   "execution_count": 46,
   "metadata": {},
   "outputs": [
    {
     "data": {
      "text/plain": [
       "array([[-2.02373874,  0.96420612]])"
      ]
     },
     "execution_count": 46,
     "metadata": {},
     "output_type": "execute_result"
    }
   ],
   "source": [
    "from sklearn.preprocessing import PolynomialFeatures # sklearn.__version__: 0.19.0\n",
    "from sklearn.linear_model import LinearRegression\n",
    "poly_features = PolynomialFeatures(degree=2, include_bias=False) # 2nd-degree polynomial\n",
    "x_poly = poly_features.fit_transform(x)\n",
    "\n",
    "lin_reg = LinearRegression()\n",
    "lin_reg.fit(x_poly, y)\n",
    "lin_reg.intercept_, lin_reg.coef_\n",
    "x_poly = poly_features.transform(x)\n",
    "y_quad_pred = lin_reg.predict(x_poly)\n",
    "lin_reg.coef_"
   ]
  },
  {
   "cell_type": "code",
   "execution_count": 47,
   "metadata": {},
   "outputs": [
    {
     "data": {
      "image/png": "[encoded data removed]",
      "text/plain": [
       "<matplotlib.figure.Figure at 0x1f353ed1898>"
      ]
     },
     "metadata": {},
     "output_type": "display_data"
    }
   ],
   "source": [
    "fig,ax=subplots()\n",
    "_=ax.plot(x,y,'o',alpha=.3,color='gray',ms=8)\n",
    "_=ax.plot(x,y_quad_pred,color='k',lw=2)\n",
    "_=ax.set_xlabel(\"$x$\",fontsize=22)\n",
    "_=ax.set_ylabel(\"$y$\",fontsize=22)\n",
    "_=ax.set_title(\"Polynormial regression; a=%3.3g b=%3.3g\"%(lin_reg.coef_[0,0],lin_reg.coef_[0,1]))"
   ]
  },
  {
   "cell_type": "markdown",
   "metadata": {},
   "source": [
    "### Logistic 回归 （Logisctic Regression）"
   ]
  },
  {
   "cell_type": "markdown",
   "metadata": {},
   "source": [
    "** Bernoulli distribution **\n",
    "($Y \\in \\lbrace 0,1 \\rbrace$)\n",
    "$$\n",
    "\\mathbb{P}(Y) = p^Y (1-p)^{ 1-Y }\n",
    "$$\n",
    "假定：\n",
    "$$\n",
    "\\begin{equation}\n",
    "\\hat{p} = \\theta(a x+b)= \\frac{e^{a x + b}}{1+e^{a x + b}}\n",
    "\\label{eq:prob} \\tag{1}\n",
    "\\end{equation}\n",
    "$$"
   ]
  },
  {
   "cell_type": "markdown",
   "metadata": {},
   "source": []
  },
  {
   "cell_type": "markdown",
   "metadata": {},
   "source": [
    "<!-- TODO Generalized linear model -->\n",
    "- [ ] 指数族分布和广义线性模型"
   ]
  },
  {
   "cell_type": "markdown",
   "metadata": {},
   "source": [
    "Logistic/Sigmoid 函数\n",
    "sigmoid 函数$g(z)=1/(1+e^{-z})$ 这个函数的一个性质是: $$ {g}'(z)=g(z)(1-g(z)) $$"
   ]
  },
  {
   "cell_type": "markdown",
   "metadata": {},
   "source": [
    "1.appropriate model\n",
    "2.trianing algorithm\n",
    "3.a good set of hyperparameters"
   ]
  },
  {
   "cell_type": "markdown",
   "metadata": {},
   "source": [
    "**线性分类在SVM中**"
   ]
  }
 ],
 "metadata": {
  "kernelspec": {
   "display_name": "Python 3",
   "language": "python",
   "name": "python3"
  },
  "language_info": {
   "codemirror_mode": {
    "name": "ipython",
    "version": 3
   },
   "file_extension": ".py",
   "mimetype": "text/x-python",
   "name": "python",
   "nbconvert_exporter": "python",
   "pygments_lexer": "ipython3",
   "version": "3.6.4"
  },
  "latex_envs": {
   "LaTeX_envs_menu_present": true,
   "autoclose": false,
   "autocomplete": true,
   "bibliofile": "biblio.bib",
   "cite_by": "apalike",
   "current_citInitial": 1,
   "eqLabelWithNumbers": true,
   "eqNumInitial": 1,
   "hotkeys": {
    "equation": "Ctrl-E",
    "itemize": "Ctrl-I"
   },
   "labels_anchors": false,
   "latex_user_defs": false,
   "report_style_numbering": false,
   "user_envs_cfg": false
  }
 },
 "nbformat": 4,
 "nbformat_minor": 2
}
