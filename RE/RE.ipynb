{
 "cells": [
  {
   "cell_type": "markdown",
   "metadata": {},
   "source": [
    "# Regular Expression"
   ]
  },
  {
   "cell_type": "code",
   "execution_count": 1,
   "metadata": {},
   "outputs": [],
   "source": [
    "import re"
   ]
  },
  {
   "cell_type": "code",
   "execution_count": 2,
   "metadata": {},
   "outputs": [
    {
     "data": {
      "text/plain": [
       "['spam', 'ham', 'eggs']"
      ]
     },
     "execution_count": 2,
     "metadata": {},
     "output_type": "execute_result"
    }
   ],
   "source": [
    "re.findall('<(.*?)>', '<spam>/<ham><eggs>')"
   ]
  },
  {
   "cell_type": "code",
   "execution_count": 31,
   "metadata": {},
   "outputs": [],
   "source": [
    "bat_regex = re.compile(r'Bat(man|mobile|copter|bat)')\n",
    "mo = bat_regex.search('Batmobile lost wheel, Batcopter')"
   ]
  },
  {
   "cell_type": "code",
   "execution_count": 33,
   "metadata": {},
   "outputs": [
    {
     "name": "stdout",
     "output_type": "stream",
     "text": [
      "('mobile',)\n"
     ]
    }
   ],
   "source": [
    "print(mo.groups())"
   ]
  },
  {
   "cell_type": "code",
   "execution_count": 22,
   "metadata": {},
   "outputs": [
    {
     "name": "stdout",
     "output_type": "stream",
     "text": [
      "('mobile',)\n"
     ]
    }
   ],
   "source": [
    "print(c)"
   ]
  },
  {
   "cell_type": "markdown",
   "metadata": {},
   "source": [
    "### 匹配模式\n",
    "\n",
    "- () 表示分组\n",
    "- [] 表示多选一\n",
    "- {} 匹配次数\n",
    "- . 表示通配符  注：re.compile(RegString, re.DOTALL)匹配所有字符，包括换行符。\n",
    "- \\* 匹配零次或多次\n",
    "- ？可选匹配\n",
    "- \\+ 匹配一次或多次\n",
    "- | 匹配多个可选项中的一个\n",
    "- ^ 行首\n",
    "- $ 行尾\n",
    "\n",
    "\n",
    "### 字符分类\n",
    "- \\d \\D 数字与非数字\n",
    "- \\w \\W 字符与非字符\n",
    "- \\s \\S 空白字符与非空白字符\n",
    "\n",
    "### 配置类\n",
    "re.I or re.IGNORECASE 忽略大小写\n",
    "\n"
   ]
  },
  {
   "cell_type": "code",
   "execution_count": 65,
   "metadata": {},
   "outputs": [],
   "source": [
    "### 复杂表达式\n",
    "phone_num_reg = re.compile(r'''(\n",
    "    (\\d{3}|\\(\\d{3}\\))?      # area code\n",
    "    (\\s|-|\\.)?              # separator\n",
    "    \\d{3}                   # first 3 digits\n",
    "    (\\s|-|\\.)               # separator\n",
    "    \\d{4}                   # last 4 digits\n",
    "    (\\s*(ext|x|ext.)\\s*\\d{2,5})? #extenstion\n",
    "    )''', re.VERBOSE)"
   ]
  },
  {
   "cell_type": "code",
   "execution_count": 67,
   "metadata": {},
   "outputs": [
    {
     "name": "stdout",
     "output_type": "stream",
     "text": [
      "343-344-3433 ext 34\n"
     ]
    }
   ],
   "source": [
    "print(phone_num_reg.search(\"343-344-3433 ext 34\").group())"
   ]
  },
  {
   "cell_type": "code",
   "execution_count": null,
   "metadata": {},
   "outputs": [],
   "source": []
  }
 ],
 "metadata": {
  "kernelspec": {
   "display_name": "Python 3",
   "language": "python",
   "name": "python3"
  },
  "language_info": {
   "codemirror_mode": {
    "name": "ipython",
    "version": 3
   },
   "file_extension": ".py",
   "mimetype": "text/x-python",
   "name": "python",
   "nbconvert_exporter": "python",
   "pygments_lexer": "ipython3",
   "version": "3.5.4"
  }
 },
 "nbformat": 4,
 "nbformat_minor": 2
}
